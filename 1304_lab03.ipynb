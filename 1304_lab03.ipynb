{
  "nbformat": 4,
  "nbformat_minor": 0,
  "metadata": {
    "colab": {
      "provenance": [],
      "authorship_tag": "ABX9TyMw6ZcQK5lFLAym0ztKupwq",
      "include_colab_link": true
    },
    "kernelspec": {
      "name": "python3",
      "display_name": "Python 3"
    },
    "language_info": {
      "name": "python"
    }
  },
  "cells": [
    {
      "cell_type": "markdown",
      "metadata": {
        "id": "view-in-github",
        "colab_type": "text"
      },
      "source": [
        "<a href=\"https://colab.research.google.com/github/poojitha-unnam/PDS-1304-/blob/main/1304_lab03.ipynb\" target=\"_parent\"><img src=\"https://colab.research.google.com/assets/colab-badge.svg\" alt=\"Open In Colab\"/></a>"
      ]
    },
    {
      "cell_type": "markdown",
      "source": [
        "#1 QUESTION"
      ],
      "metadata": {
        "id": "zBGNZyjG52Ix"
      }
    },
    {
      "cell_type": "code",
      "source": [
        "import numpy as np\n",
        "np.random.seed(42)\n",
        "scores = np.random.randint(50, 101, size=(4, 4))\n",
        "row_means = np.mean(scores, axis=1)\n",
        "col_means = np.mean(scores, axis=0)\n",
        "std_dev = np.std(scores)\n",
        "variance = np.var(scores)\n",
        "global_max = np.max(scores)\n",
        "global_min = np.min(scores)\n",
        "max_index = np.unravel_index(np.argmax(scores), scores.shape)\n",
        "min_index = np.unravel_index(np.argmin(scores), scores.shape)\n",
        "print(\"Test Scores (4x4):\\n\", scores)\n",
        "print(\"\\nRow-wise Means:\", row_means)\n",
        "print(\"Column-wise Means:\", col_means)\n",
        "print(\"\\nStandard Deviation:\", round(std_dev, 2))\n",
        "print(\"Variance:\", round(variance, 2))\n",
        "print(\"\\nGlobal Max:\", global_max, \"at index\", max_index)\n",
        "print(\"Global Min:\", global_min, \"at index\", min_index)"
      ],
      "metadata": {
        "colab": {
          "base_uri": "https://localhost:8080/"
        },
        "id": "a6rbqvAD5yrw",
        "outputId": "a77390e6-e774-4ab6-de56-4627c1d94ec8"
      },
      "execution_count": 1,
      "outputs": [
        {
          "output_type": "stream",
          "name": "stdout",
          "text": [
            "Test Scores (4x4):\n",
            " [[88 78 64 92]\n",
            " [57 70 88 68]\n",
            " [72 60 60 73]\n",
            " [85 89 73 52]]\n",
            "\n",
            "Row-wise Means: [80.5  70.75 66.25 74.75]\n",
            "Column-wise Means: [75.5  74.25 71.25 71.25]\n",
            "\n",
            "Standard Deviation: 12.21\n",
            "Variance: 149.18\n",
            "\n",
            "Global Max: 92 at index (np.int64(0), np.int64(3))\n",
            "Global Min: 52 at index (np.int64(3), np.int64(3))\n"
          ]
        }
      ]
    },
    {
      "cell_type": "code",
      "source": [
        "import numpy as np\n",
        "import matplotlib.pyplot as plt\n",
        "rgb_image = np.random.randint(0, 256, (3, 3, 3), dtype=np.uint8)\n",
        "red_channel = rgb_image[:, :, 0]\n",
        "green_channel = rgb_image[:, :, 1]\n",
        "blue_channel = rgb_image[:, :, 2]\n",
        "avg_red = np.mean(red_channel)\n",
        "avg_green = np.mean(green_channel)\n",
        "avg_blue = np.mean(blue_channel)\n",
        "brightened_image = np.clip(rgb_image + 50, 0, 255)\n",
        "fig, axs = plt.subplots(1, 4, figsize=(12, 3))\n",
        "axs[0].imshow(rgb_image)\n",
        "axs[0].set_title(\"Original RGB\")\n",
        "axs[1].imshow(red_channel, cmap='Reds')\n",
        "axs[1].set_title(\"Red Channel\")\n",
        "axs[2].imshow(green_channel, cmap='Greens')\n",
        "axs[2].set_title(\"Green Channel\")\n",
        "axs[3].imshow(blue_channel, cmap='Blues')\n",
        "axs[3].set_title(\"Blue Channel\")\n"
      ],
      "metadata": {
        "colab": {
          "base_uri": "https://localhost:8080/",
          "height": 302
        },
        "id": "_-UyI0st56Hw",
        "outputId": "98609eb4-dca9-436a-8bae-b424aba7b223"
      },
      "execution_count": 3,
      "outputs": [
        {
          "output_type": "execute_result",
          "data": {
            "text/plain": [
              "Text(0.5, 1.0, 'Blue Channel')"
            ]
          },
          "metadata": {},
          "execution_count": 3
        },
        {
          "output_type": "display_data",
          "data": {
            "text/plain": [
              "<Figure size 1200x300 with 4 Axes>"
            ],
            "image/png": "[encoded data removed]"
          },
          "metadata": {}
        }
      ]
    },
    {
      "cell_type": "code",
      "source": [
        "for ax in axs:\n",
        "  ax.axis('off')\n",
        "plt.tight_layout()\n",
        "plt.show()"
      ],
      "metadata": {
        "colab": {
          "base_uri": "https://localhost:8080/",
          "height": 34
        },
        "id": "KkuJmWS57QFf",
        "outputId": "8b71625d-acf6-4baa-c2ca-6f6faa46440a"
      },
      "execution_count": 5,
      "outputs": [
        {
          "output_type": "display_data",
          "data": {
            "text/plain": [
              "<Figure size 640x480 with 0 Axes>"
            ]
          },
          "metadata": {}
        }
      ]
    },
    {
      "cell_type": "code",
      "source": [
        "print(\"Average Intensities:\")\n",
        "print(f\"Red: {avg_red:.2f}\")\n",
        "print(f\"Green: {avg_green:.2f}\")\n",
        "print(f\"Blue: {avg_blue:.2f}\")"
      ],
      "metadata": {
        "colab": {
          "base_uri": "https://localhost:8080/"
        },
        "id": "AoYF1EGy7U-8",
        "outputId": "66f41df1-01f9-49a6-af05-695948a0e034"
      },
      "execution_count": 6,
      "outputs": [
        {
          "output_type": "stream",
          "name": "stdout",
          "text": [
            "Average Intensities:\n",
            "Red: 95.11\n",
            "Green: 124.00\n",
            "Blue: 168.44\n"
          ]
        }
      ]
    }
  ]
}